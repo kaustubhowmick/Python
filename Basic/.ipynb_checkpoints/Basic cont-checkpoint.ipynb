{
 "cells": [
  {
   "cell_type": "code",
   "execution_count": 1,
   "id": "capital-charity",
   "metadata": {},
   "outputs": [],
   "source": [
    "# Continued on new Jupyter Notebook"
   ]
  },
  {
   "cell_type": "code",
   "execution_count": 2,
   "id": "checked-genius",
   "metadata": {},
   "outputs": [],
   "source": [
    "# We will see Tkinter"
   ]
  },
  {
   "cell_type": "markdown",
   "id": "academic-ready",
   "metadata": {},
   "source": [
    "#### Tkinter"
   ]
  },
  {
   "cell_type": "code",
   "execution_count": 3,
   "id": "working-calvin",
   "metadata": {},
   "outputs": [],
   "source": [
    "# This is a python module that provide access to widget tool kit that means it allows GUI programs to be created."
   ]
  },
  {
   "cell_type": "code",
   "execution_count": 4,
   "id": "silver-training",
   "metadata": {},
   "outputs": [
    {
     "name": "stdout",
     "output_type": "stream",
     "text": [
      "8.6\n",
      "8.6\n"
     ]
    }
   ],
   "source": [
    "#lets test it out\n",
    "\n",
    "import tkinter\n",
    "\n",
    "print(tkinter.TkVersion)\n",
    "print(tkinter.TclVersion)\n",
    "\n",
    "tkinter._test()"
   ]
  },
  {
   "cell_type": "code",
   "execution_count": 5,
   "id": "narrow-current",
   "metadata": {},
   "outputs": [],
   "source": [
    "# Nice, it shows that we are working with version 8.6,\n",
    "# If you have ran the above code, you would have got a new window stating the version of TkVersion and TclVersion\n",
    "# And if you click the \"Click Me\" its puts a bracket around it, to show its working"
   ]
  },
  {
   "cell_type": "code",
   "execution_count": 6,
   "id": "bronze-purse",
   "metadata": {},
   "outputs": [],
   "source": [
    "# Now lets see create a new window\n",
    "\n",
    "import tkinter\n",
    "\n",
    "mainWindow = tkinter.Tk()\n",
    "mainWindow.title(\"Hello World!\")\n",
    "mainWindow.geometry('640x480')\n",
    "mainWindow.mainloop()"
   ]
  },
  {
   "cell_type": "code",
   "execution_count": 7,
   "id": "passing-effectiveness",
   "metadata": {},
   "outputs": [],
   "source": [
    "# Now if you would have ran the upper cell, you would have got a window, that has a title of \"Hello World!\"\n",
    "# because of line 6 and the window has a size of 640x480 because of line 7"
   ]
  },
  {
   "cell_type": "code",
   "execution_count": 8,
   "id": "ordered-eating",
   "metadata": {},
   "outputs": [],
   "source": [
    "# One thing that is important in tkinter when you are defining a geometry, you have to pass the dimensions as a string."
   ]
  },
  {
   "cell_type": "code",
   "execution_count": 9,
   "id": "classified-invite",
   "metadata": {},
   "outputs": [],
   "source": [
    "# The geometry function have 4 components, the height, width, and the offset(top and left from the screen)\n",
    "# The width and the height are separated by comma, but the offsets are separated by + and -\n",
    "\n",
    "# lets see that in action\n",
    "\n",
    "mainWindow = tkinter.Tk()\n",
    "mainWindow.title(\"Hello World!\")\n",
    "mainWindow.geometry('640x480+8+400')\n",
    "mainWindow.mainloop()"
   ]
  },
  {
   "cell_type": "code",
   "execution_count": 10,
   "id": "sustainable-acquisition",
   "metadata": {},
   "outputs": [],
   "source": [
    "# So now the window is +8 pixels left of the screen and +400 pixels down from the top"
   ]
  },
  {
   "cell_type": "code",
   "execution_count": 11,
   "id": "subjective-plain",
   "metadata": {},
   "outputs": [],
   "source": [
    "# One thing to note here is that: \n",
    "# Everything in tk is a window and objects are placed in a hierarchy so in our example\n",
    "# on the screen main window is the root window so everything else must be placed within it\n",
    "# or within one of the child windows now not every window can have children but\n",
    "# every window except the route one must have a master window"
   ]
  },
  {
   "cell_type": "code",
   "execution_count": 12,
   "id": "stainless-parish",
   "metadata": {},
   "outputs": [],
   "source": [
    "# lets see now how we can put widgets on the window,\n",
    "# we are going to be working with a canvas widget(intened for displaying graphics) but we are gonna use\n",
    "# it bcuz changing it we can have raised appreance and giving it a border, it is easier to see where\n",
    "# it is on the screen. bcuz we are going to repositioning it."
   ]
  },
  {
   "cell_type": "code",
   "execution_count": 14,
   "id": "variable-trade",
   "metadata": {},
   "outputs": [],
   "source": [
    "import tkinter\n",
    "\n",
    "mainWindow = tkinter.Tk()\n",
    "mainWindow.title(\"Hello World!\")\n",
    "mainWindow.geometry('640x480')\n",
    "\n",
    "label = tkinter.Label(mainWindow, text =\"Hello World!\")\n",
    "label.pack(side='top') # this will add a text at the top of the window.\n",
    "\n",
    "canvas = tkinter.Canvas(mainWindow, relief='raised', borderwidth=1)\n",
    "canvas.pack(side='left')\n",
    "\n",
    "mainWindow.mainloop()"
   ]
  },
  {
   "cell_type": "code",
   "execution_count": 15,
   "id": "pregnant-expression",
   "metadata": {},
   "outputs": [],
   "source": [
    "# now if we want the canvas to fill the window from the left side, we can do so by\n",
    "\n",
    "mainWindow = tkinter.Tk()\n",
    "mainWindow.title(\"Hello World!\")\n",
    "mainWindow.geometry('640x480')\n",
    "\n",
    "label = tkinter.Label(mainWindow, text =\"Hello World!\")\n",
    "label.pack(side='top') # this will add a text at the top of the window.\n",
    "\n",
    "canvas = tkinter.Canvas(mainWindow, relief='raised', borderwidth=1)\n",
    "canvas.pack(side='left', fill=tkinter.Y)\n",
    "\n",
    "mainWindow.mainloop()"
   ]
  },
  {
   "cell_type": "code",
   "execution_count": 17,
   "id": "alpine-virtue",
   "metadata": {},
   "outputs": [],
   "source": [
    "# But if you change the Y to X in line 11, you would think that it would fit the entire width of the screen\n",
    "# if you do so, you would see it dosent actually work\n",
    "\n",
    "mainWindow = tkinter.Tk()\n",
    "mainWindow.title(\"Hello World!\")\n",
    "mainWindow.geometry('640x480')\n",
    "\n",
    "label = tkinter.Label(mainWindow, text =\"Hello World!\")\n",
    "label.pack(side='top') # this will add a text at the top of the window.\n",
    "\n",
    "canvas = tkinter.Canvas(mainWindow, relief='raised', borderwidth=1)\n",
    "canvas.pack(side='left', fill=tkinter.X) #changing Y to X\n",
    "\n",
    "mainWindow.mainloop()"
   ]
  },
  {
   "cell_type": "code",
   "execution_count": 18,
   "id": "realistic-arrest",
   "metadata": {},
   "outputs": [],
   "source": [
    "# As you can see that dosent actually work"
   ]
  },
  {
   "cell_type": "code",
   "execution_count": 20,
   "id": "binding-operator",
   "metadata": {},
   "outputs": [],
   "source": [
    "# To do so(fit the entire width of the screen in the window)\n",
    "# we need to add another parameter\n",
    "\n",
    "mainWindow = tkinter.Tk()\n",
    "mainWindow.title(\"Hello World!\")\n",
    "mainWindow.geometry('640x480')\n",
    "\n",
    "label = tkinter.Label(mainWindow, text =\"Hello World!\")\n",
    "label.pack(side='top') # this will add a text at the top of the window.\n",
    "\n",
    "canvas = tkinter.Canvas(mainWindow, relief='raised', borderwidth=1)\n",
    "canvas.pack(side='left', fill=tkinter.X, expand=True)\n",
    "\n",
    "mainWindow.mainloop()"
   ]
  },
  {
   "cell_type": "code",
   "execution_count": 21,
   "id": "japanese-tulsa",
   "metadata": {},
   "outputs": [],
   "source": [
    "# As you can see, it fills the entire width of the screen"
   ]
  },
  {
   "cell_type": "code",
   "execution_count": 22,
   "id": "logical-deficit",
   "metadata": {},
   "outputs": [],
   "source": [
    "# Now if we do it the other way expand it to the height, we will run into the same problem\n",
    "# lets see, but first lets move the canvas to the top \n",
    "\n",
    "mainWindow = tkinter.Tk()\n",
    "mainWindow.title(\"Hello World!\")\n",
    "mainWindow.geometry('640x480')\n",
    "\n",
    "label = tkinter.Label(mainWindow, text =\"Hello World!\")\n",
    "label.pack(side='top') # this will add a text at the top of the window.\n",
    "\n",
    "canvas = tkinter.Canvas(mainWindow, relief='raised', borderwidth=1)\n",
    "canvas.pack(side='top', fill=tkinter.Y) #changed the position of canvas to the top\n",
    "\n",
    "mainWindow.mainloop()"
   ]
  },
  {
   "cell_type": "code",
   "execution_count": 23,
   "id": "established-privilege",
   "metadata": {},
   "outputs": [],
   "source": [
    "# But now if we want to fit it to height of the screen of the window, we again have to use the expan parameter\n",
    "\n",
    "mainWindow = tkinter.Tk()\n",
    "mainWindow.title(\"Hello World!\")\n",
    "mainWindow.geometry('640x480')\n",
    "\n",
    "label = tkinter.Label(mainWindow, text =\"Hello World!\")\n",
    "label.pack(side='top') # this will add a text at the top of the window.\n",
    "\n",
    "canvas = tkinter.Canvas(mainWindow, relief='raised', borderwidth=1)\n",
    "canvas.pack(side='top', fill=tkinter.Y, expand=True)\n",
    "\n",
    "mainWindow.mainloop()"
   ]
  },
  {
   "cell_type": "code",
   "execution_count": 24,
   "id": "boring-bearing",
   "metadata": {},
   "outputs": [],
   "source": [
    "# Now if we want to expand it in both direction, we have to use .BOTH\n",
    "\n",
    "mainWindow = tkinter.Tk()\n",
    "mainWindow.title(\"Hello World!\")\n",
    "mainWindow.geometry('640x480')\n",
    "\n",
    "label = tkinter.Label(mainWindow, text =\"Hello World!\")\n",
    "label.pack(side='top') # this will add a text at the top of the window.\n",
    "\n",
    "canvas = tkinter.Canvas(mainWindow, relief='raised', borderwidth=1)\n",
    "canvas.pack(side='top', fill=tkinter.BOTH) # used .BOTH here\n",
    "\n",
    "mainWindow.mainloop()"
   ]
  },
  {
   "cell_type": "code",
   "execution_count": 26,
   "id": "binary-valuable",
   "metadata": {},
   "outputs": [],
   "source": [
    "# But as you can see it does expand horizontally but not vertically\n",
    "# to do that we have to use the 'expand'\n",
    "\n",
    "mainWindow = tkinter.Tk()\n",
    "mainWindow.title(\"Hello World!\")\n",
    "mainWindow.geometry('640x480')\n",
    "\n",
    "label = tkinter.Label(mainWindow, text =\"Hello World!\")\n",
    "label.pack(side='top') # this will add a text at the top of the window.\n",
    "\n",
    "canvas = tkinter.Canvas(mainWindow, relief='raised', borderwidth=1)\n",
    "canvas.pack(side='top', fill=tkinter.BOTH, expand=True)\n",
    "\n",
    "mainWindow.mainloop()"
   ]
  },
  {
   "cell_type": "code",
   "execution_count": 27,
   "id": "liberal-chick",
   "metadata": {},
   "outputs": [],
   "source": [
    "# lets now create buttons, to see how it effects the window.\n",
    "\n",
    "mainWindow = tkinter.Tk()\n",
    "mainWindow.title(\"Hello World!\")\n",
    "mainWindow.geometry('640x480')\n",
    "\n",
    "label = tkinter.Label(mainWindow, text =\"Hello World!\")\n",
    "label.pack(side='top')\n",
    "\n",
    "canvas = tkinter.Canvas(mainWindow, relief='raised', borderwidth=1)\n",
    "canvas.pack(side='left')\n",
    "\n",
    "button1 = tkinter.Button(mainWindow, text=\"button1\")\n",
    "button2 = tkinter.Button(mainWindow, text=\"button2\")\n",
    "button3 = tkinter.Button(mainWindow, text=\"button3\")\n",
    "\n",
    "button1.pack(side='left')\n",
    "button2.pack(side='left')\n",
    "button3.pack(side='left')\n",
    "\n",
    "mainWindow.mainloop()"
   ]
  },
  {
   "cell_type": "code",
   "execution_count": 28,
   "id": "received-linux",
   "metadata": {},
   "outputs": [],
   "source": [
    "# When widgets share the same side, they are placed adjacent to each other in order they're actually packed,\n",
    "# but you can see the button are now in the center of the window, which is technically we don't want\n",
    "# we can change this by changing the 'anchor' option which takes values corresponding to the four main of the compass"
   ]
  },
  {
   "cell_type": "code",
   "execution_count": 29,
   "id": "operational-croatia",
   "metadata": {},
   "outputs": [],
   "source": [
    "mainWindow = tkinter.Tk()\n",
    "mainWindow.title(\"Hello World!\")\n",
    "mainWindow.geometry('640x480')\n",
    "\n",
    "label = tkinter.Label(mainWindow, text =\"Hello World!\")\n",
    "label.pack(side='top')\n",
    "\n",
    "canvas = tkinter.Canvas(mainWindow, relief='raised', borderwidth=1)\n",
    "canvas.pack(side='left')\n",
    "\n",
    "button1 = tkinter.Button(mainWindow, text=\"button1\")\n",
    "button2 = tkinter.Button(mainWindow, text=\"button2\")\n",
    "button3 = tkinter.Button(mainWindow, text=\"button3\")\n",
    "\n",
    "button1.pack(side='left',anchor='n')\n",
    "button2.pack(side='left',anchor='s')\n",
    "button3.pack(side='left',anchor='e')\n",
    "\n",
    "mainWindow.mainloop()"
   ]
  },
  {
   "cell_type": "code",
   "execution_count": 30,
   "id": "conventional-major",
   "metadata": {},
   "outputs": [],
   "source": [
    "# So you might think all three buttons are actually doing something here but\n",
    "# what's probably not obviously its only n and s are actually doing anything here because the buttons have been\n",
    "# packed to the vertical side of the window anchor can only be therefore affect vertical\n",
    "# positioning horizontally the buttons place to the left of where the previous\n",
    "# button ends similarly if we packed them to the top or bottom edges and anchors are only\n",
    "# going to affect their horizontal position makes sense."
   ]
  },
  {
   "cell_type": "code",
   "execution_count": 32,
   "id": "brazilian-giving",
   "metadata": {},
   "outputs": [],
   "source": [
    "# Now seeing that, we will now change the canvas position to the top position and\n",
    "# change the button position to top as well.\n",
    "\n",
    "mainWindow = tkinter.Tk()\n",
    "mainWindow.title(\"Hello World!\")\n",
    "mainWindow.geometry('640x480')\n",
    "\n",
    "label = tkinter.Label(mainWindow, text =\"Hello World!\")\n",
    "label.pack(side='top')\n",
    "\n",
    "canvas = tkinter.Canvas(mainWindow, relief='raised', borderwidth=1)\n",
    "canvas.pack(side='top')\n",
    "\n",
    "button1 = tkinter.Button(mainWindow, text=\"button1\")\n",
    "button2 = tkinter.Button(mainWindow, text=\"button2\")\n",
    "button3 = tkinter.Button(mainWindow, text=\"button3\")\n",
    "\n",
    "button1.pack(side='top',anchor='n')\n",
    "button2.pack(side='top',anchor='s')\n",
    "button3.pack(side='top',anchor='e')\n",
    "\n",
    "mainWindow.mainloop()\n",
    "\n",
    "#doing this the anchor will now only effect the hiorizontal positiions"
   ]
  },
  {
   "cell_type": "code",
   "execution_count": 34,
   "id": "military-martial",
   "metadata": {},
   "outputs": [],
   "source": [
    "# So the documentation states that you can also specify the for intermediate compass points such as NW for\n",
    "# north west for example but this will actually not make any difference to the behavior\n",
    "# we've just observed widgets packed with vertical edge that's left or right\n",
    "# can only have a vertical position altered by anchor the ones packed horizontal edge top\n",
    "# and bottom can only have their horizontal positions change."
   ]
  },
  {
   "cell_type": "code",
   "execution_count": 35,
   "id": "chemical-statement",
   "metadata": {},
   "outputs": [],
   "source": [
    "# Now although we can place widgets inside a frame to both group them\n",
    "#together and position them a little bit better pack is really only suitable for very simple layouts"
   ]
  },
  {
   "cell_type": "code",
   "execution_count": 36,
   "id": "natural-bones",
   "metadata": {},
   "outputs": [],
   "source": [
    "# Now the 3 geometry managers that are a part of tkinter, pack is the most basic one\n",
    "# and the options are still bit too limited.\n",
    "\n",
    "#But lets now add a Frame to our window\n",
    "\n",
    "mainWindow = tkinter.Tk()\n",
    "mainWindow.title(\"Hello World!\")\n",
    "mainWindow.geometry('640x480')\n",
    "\n",
    "label = tkinter.Label(mainWindow, text =\"Hello World!\")\n",
    "label.pack(side='top')\n",
    "\n",
    "leftFrame = tkinter.Frame(mainWindow) #adding a left frame to the window\n",
    "leftFrame.pack(side = 'left',anchor ='n',fill=tkinter.Y,expand=False)\n",
    "\n",
    "canvas = tkinter.Canvas(leftFrame, relief='raised', borderwidth=1)\n",
    "canvas.pack(side='left',anchor = 'n') #moving the canvas to the left and anchoring it to the north\n",
    "\n",
    "rightFrame = tkinter.Frame(mainWindow) #moving the buttons to a right Frame \n",
    "rightFrame.pack(side='right',anchor='n',expand=True)\n",
    "button1 = tkinter.Button(rightFrame, text=\"button1\") #changing the mainWindow to rightFrame\n",
    "button2 = tkinter.Button(rightFrame, text=\"button2\")\n",
    "button3 = tkinter.Button(rightFrame, text=\"button3\")\n",
    "#removing anchor from the buttons becuz it is already mentioned in the rightFrame\n",
    "button1.pack(side='top')\n",
    "button2.pack(side='top')\n",
    "button3.pack(side='top')\n",
    "\n",
    "mainWindow.mainloop()"
   ]
  },
  {
   "cell_type": "code",
   "execution_count": 37,
   "id": "super-swaziland",
   "metadata": {},
   "outputs": [],
   "source": [
    "# Now this is the result we were set out to achieve\n",
    "# But pack is still limited to very basic layouts"
   ]
  },
  {
   "cell_type": "code",
   "execution_count": null,
   "id": "legal-architect",
   "metadata": {},
   "outputs": [],
   "source": []
  }
 ],
 "metadata": {
  "kernelspec": {
   "display_name": "Python 3",
   "language": "python",
   "name": "python3"
  },
  "language_info": {
   "codemirror_mode": {
    "name": "ipython",
    "version": 3
   },
   "file_extension": ".py",
   "mimetype": "text/x-python",
   "name": "python",
   "nbconvert_exporter": "python",
   "pygments_lexer": "ipython3",
   "version": "3.9.2"
  }
 },
 "nbformat": 4,
 "nbformat_minor": 5
}
